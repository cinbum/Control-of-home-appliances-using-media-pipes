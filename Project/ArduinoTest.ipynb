{
 "cells": [
  {
   "cell_type": "code",
   "execution_count": null,
   "id": "308d5ef1",
   "metadata": {},
   "outputs": [
    {
     "name": "stdout",
     "output_type": "stream",
     "text": [
      "hi\n",
      "bye\n",
      "hello~!!\n",
      "ch 10\n",
      "cccccccccccccccccccccccccccccccccccccccccccccccccccccccccccccccccccccccccccccccccccccccccccccccccccccccccccccccccccccccc\n",
      "32 글자 초과, 재입력 바랍니다.\n",
      "cc\n",
      "20\n",
      "30\n",
      "40\n",
      "50\n",
      "50 50\n",
      "12345678\n",
      "0\n"
     ]
    }
   ],
   "source": [
    "import serial\n",
    "\n",
    "# 'COM3' 부분에 환경에 맞는 포트 입력\n",
    "ser = serial.Serial('COM9', 115200)\n",
    "\n",
    "while True:\n",
    "    if ser.readable():\n",
    "        input_str = input()  # 최대 32 문자\n",
    "        size = len(input_str)\n",
    "        if 0 <= size <= 32:\n",
    "            # data 전송\n",
    "            input_str = input_str.encode('utf-8')\n",
    "            ser.write(input_str)\n",
    "        else:\n",
    "            print(\"32 글자 초과, 재입력 바랍니다.\")"
   ]
  },
  {
   "cell_type": "code",
   "execution_count": null,
   "id": "01359d24",
   "metadata": {},
   "outputs": [],
   "source": []
  }
 ],
 "metadata": {
  "kernelspec": {
   "display_name": "Python 3 (ipykernel)",
   "language": "python",
   "name": "python3"
  },
  "language_info": {
   "codemirror_mode": {
    "name": "ipython",
    "version": 3
   },
   "file_extension": ".py",
   "mimetype": "text/x-python",
   "name": "python",
   "nbconvert_exporter": "python",
   "pygments_lexer": "ipython3",
   "version": "3.9.12"
  }
 },
 "nbformat": 4,
 "nbformat_minor": 5
}
